{
    "cells": [
        {
            "cell_type": "code",
            "execution_count": 2,
            "metadata": {},
            "outputs": [
                {
                    "name": "stdout",
                    "output_type": "stream",
                    "text": "Collecting dash\n  Downloading dash-2.2.0-py3-none-any.whl (8.5 MB)\n\u001b[K     |\u2588\u2588\u2588\u2588\u2588\u2588\u2588\u2588\u2588\u2588\u2588\u2588\u2588\u2588\u2588\u2588\u2588\u2588\u2588\u2588\u2588\u2588\u2588\u2588\u2588\u2588\u2588\u2588\u2588\u2588\u2588\u2588| 8.5 MB 14.8 MB/s eta 0:00:01\n\u001b[?25hCollecting dash-table==5.0.0\n  Downloading dash_table-5.0.0-py3-none-any.whl (3.9 kB)\nRequirement already satisfied: plotly>=5.0.0 in /opt/conda/envs/Python-3.9/lib/python3.9/site-packages (from dash) (5.1.0)\nCollecting dash-core-components==2.0.0\n  Downloading dash_core_components-2.0.0-py3-none-any.whl (3.8 kB)\nCollecting flask-compress\n  Downloading Flask_Compress-1.11-py3-none-any.whl (7.9 kB)\nCollecting dash-html-components==2.0.0\n  Downloading dash_html_components-2.0.0-py3-none-any.whl (4.1 kB)\nCollecting Flask>=1.0.4\n  Downloading Flask-2.0.3-py3-none-any.whl (95 kB)\n\u001b[K     |\u2588\u2588\u2588\u2588\u2588\u2588\u2588\u2588\u2588\u2588\u2588\u2588\u2588\u2588\u2588\u2588\u2588\u2588\u2588\u2588\u2588\u2588\u2588\u2588\u2588\u2588\u2588\u2588\u2588\u2588\u2588\u2588| 95 kB 8.1 MB/s  eta 0:00:01\n\u001b[?25hRequirement already satisfied: Werkzeug>=2.0 in /opt/conda/envs/Python-3.9/lib/python3.9/site-packages (from Flask>=1.0.4->dash) (2.0.2)\nRequirement already satisfied: Jinja2>=3.0 in /opt/conda/envs/Python-3.9/lib/python3.9/site-packages (from Flask>=1.0.4->dash) (3.0.2)\nRequirement already satisfied: click>=7.1.2 in /opt/conda/envs/Python-3.9/lib/python3.9/site-packages (from Flask>=1.0.4->dash) (8.0.3)\nCollecting itsdangerous>=2.0\n  Downloading itsdangerous-2.1.1-py3-none-any.whl (15 kB)\nRequirement already satisfied: MarkupSafe>=2.0 in /opt/conda/envs/Python-3.9/lib/python3.9/site-packages (from Jinja2>=3.0->Flask>=1.0.4->dash) (2.0.1)\nRequirement already satisfied: tenacity>=6.2.0 in /opt/conda/envs/Python-3.9/lib/python3.9/site-packages (from plotly>=5.0.0->dash) (8.0.1)\nRequirement already satisfied: six in /opt/conda/envs/Python-3.9/lib/python3.9/site-packages (from plotly>=5.0.0->dash) (1.15.0)\nCollecting brotli\n  Downloading Brotli-1.0.9-cp39-cp39-manylinux1_x86_64.whl (357 kB)\n\u001b[K     |\u2588\u2588\u2588\u2588\u2588\u2588\u2588\u2588\u2588\u2588\u2588\u2588\u2588\u2588\u2588\u2588\u2588\u2588\u2588\u2588\u2588\u2588\u2588\u2588\u2588\u2588\u2588\u2588\u2588\u2588\u2588\u2588| 357 kB 92.6 MB/s eta 0:00:01\n\u001b[?25hInstalling collected packages: itsdangerous, Flask, brotli, flask-compress, dash-table, dash-html-components, dash-core-components, dash\nSuccessfully installed Flask-2.0.3 brotli-1.0.9 dash-2.2.0 dash-core-components-2.0.0 dash-html-components-2.0.0 dash-table-5.0.0 flask-compress-1.11 itsdangerous-2.1.1\nNote: you may need to restart the kernel to use updated packages.\n"
                }
            ],
            "source": "pip install dash"
        },
        {
            "cell_type": "code",
            "execution_count": 4,
            "metadata": {},
            "outputs": [
                {
                    "name": "stdout",
                    "output_type": "stream",
                    "text": "Collecting wget\n  Downloading wget-3.2.zip (10 kB)\nBuilding wheels for collected packages: wget\n  Building wheel for wget (setup.py) ... \u001b[?25ldone\n\u001b[?25h  Created wheel for wget: filename=wget-3.2-py3-none-any.whl size=9672 sha256=056185780fd00db722dd791086358a3f9381cf7ad8053ff9cd4008c72333206f\n  Stored in directory: /tmp/wsuser/.cache/pip/wheels/04/5f/3e/46cc37c5d698415694d83f607f833f83f0149e49b3af9d0f38\nSuccessfully built wget\nInstalling collected packages: wget\nSuccessfully installed wget-3.2\nNote: you may need to restart the kernel to use updated packages.\n"
                }
            ],
            "source": "pip install wget\n"
        },
        {
            "cell_type": "code",
            "execution_count": 8,
            "metadata": {},
            "outputs": [
                {
                    "data": {
                        "text/plain": "'spacex_launch_dash.csv'"
                    },
                    "execution_count": 8,
                    "metadata": {},
                    "output_type": "execute_result"
                }
            ],
            "source": "import wget\nwget.download(\"https://cf-courses-data.s3.us.cloud-object-storage.appdomain.cloud/IBM-DS0321EN-SkillsNetwork/datasets/spacex_launch_dash.csv\")"
        },
        {
            "cell_type": "code",
            "execution_count": null,
            "metadata": {},
            "outputs": [
                {
                    "name": "stdout",
                    "output_type": "stream",
                    "text": "Dash is running on http://127.0.0.1:8050/\n\n * Serving Flask app '__main__' (lazy loading)\n * Environment: production\n\u001b[31m   WARNING: This is a development server. Do not use it in a production deployment.\u001b[0m\n\u001b[2m   Use a production WSGI server instead.\u001b[0m\n * Debug mode: off\n"
                },
                {
                    "name": "stderr",
                    "output_type": "stream",
                    "text": " * Running on http://127.0.0.1:8050/ (Press CTRL+C to quit)\n"
                }
            ],
            "source": "# Import required libraries\nimport pandas as pd\nimport dash\nimport dash_html_components as html\nimport dash_core_components as dcc\nfrom dash.dependencies import Input, Output\nimport plotly.express as px\n\n# Read the airline data into pandas dataframe\nspacex_df = pd.read_csv(\"spacex_launch_dash.csv\")\nmax_payload = spacex_df['Payload Mass (kg)'].max()\nmin_payload = spacex_df['Payload Mass (kg)'].min()\n\n# Create a dash application\napp = dash.Dash(__name__)\n\n# Create an app layout\napp.layout = html.Div(children=[html.H1('SpaceX Launch Records Dashboard',\n                                        style={'textAlign': 'center', 'color': '#503D36',\n                                               'font-size': 40}),\n                                # TASK 1: Add a dropdown list to enable Launch Site selection\n                                # The default select value is for ALL sites\n                                 dcc.Dropdown(id='site-dropdown',options=[{'label': 'All Sites', 'value': 'ALL'},{'label': 'CAFS LC-40', 'value': 'CAFS LC-40'},{'label': 'VAFB SLC-4E', 'value': 'VAFB SLC-4E'},{'label': 'KSC LC-39A', 'value': 'KSC LC-39A'},{'label': 'CCAFS SLC-40', 'value': 'CCAFS SLC-40'}],value='ALL',placeholder='Select a Launch Site here',searchable=True),\n                                html.Br(),\n\n                                # TASK 2: Add a pie chart to show the total successful launches count for all sites\n                                \n\n        # return the outcomes piechart for a selected site\n                                # If a specific launch site was selected, show the Success vs. Failed counts for the site\n                                html.Div(dcc.Graph(id='success-pie-chart')),\n                                html.Br(),\n\n                                html.P(\"Payload range (Kg):\"),\n                                # TASK 3: Add a slider to select payload range\n                                #dcc.RangeSlider(id='payload-slider',...)\n                                 dcc.RangeSlider(id='payload-slider',\n                                                min=0, max=10000, step=1000,\n                                                marks={0: '0',\n                                                       2500: '2500',\n                                                       5000: '5000',\n                                                       7500: '7500'},\n                                                value=[min_payload, max_payload]),\n\n                                # TASK 4: Add a scatter chart to show the correlation between payload and launch success\n                                html.Div(dcc.Graph(id='success-payload-scatter-chart')),\n                                ])\n\n\n# TASK 2:\n# Add a callback function for `site-dropdown` as input, `success-pie-chart` as output\n@app.callback(Output(component_id='success-pie-chart', component_property='figure'),\n              Input(component_id='site-dropdown', component_property='value'))\ndef get_pie_chart(entered_site):\n    if entered_site == 'ALL':\n        df = spacex_df\n        fig = px.pie(df, values='class',\n        names='Launch Site',\n        title='Total Success Launches By Site')\n        return fig\n    else:\n        df = spacex_df[spacex_df['Launch Site'] == entered_site]\n        filtered_df = df.groupby('class').size().reset_index(name='class count')\n        fig = px.pie(filtered_df, values='class count',\n        names='class',\n        title='Total Success Launches By %s' % entered_site)\n        return fig\n\n# TASK 4:\n# Add a callback function for `site-dropdown` and `payload-slider` as inputs, `success-payload-scatter-chart` as output\n@app.callback(Output(component_id='success-payload-scatter-chart', component_property='figure'),\n              [Input(component_id='site-dropdown', component_property='value'),\n               Input(component_id=\"payload-slider\", component_property=\"value\")])\ndef get_scatter_plot(entered_site, slider_range):\n    low, high = slider_range\n    if entered_site == 'ALL':\n        df = spacex_df\n        mask = (df['Payload Mass (kg)'] > low) & (df['Payload Mass (kg)'] < high)\n        fig = px.scatter(df[mask], x=\"Payload Mass (kg)\", y=\"class\", \n                         color=\"Booster Version Category\",\n                         title='Correlation between Payload and Success for all Sites')\n        return fig\n    else:\n        df = spacex_df[spacex_df['Launch Site'] == entered_site]\n        mask = (df['Payload Mass (kg)'] > low) & (df['Payload Mass (kg)'] < high)\n        fig = px.scatter(df[mask], x=\"Payload Mass (kg)\", y=\"class\", \n                         color=\"Booster Version Category\",\n                         title='Correlation between Payload and Success for %s' % entered_site)\n        return fig   \n    \n\n# Run the app\nif __name__ == '__main__':\n    app.run_server()\n"
        },
        {
            "cell_type": "code",
            "execution_count": null,
            "metadata": {},
            "outputs": [],
            "source": ""
        }
    ],
    "metadata": {
        "kernelspec": {
            "display_name": "Python 3.9",
            "language": "python",
            "name": "python3"
        },
        "language_info": {
            "codemirror_mode": {
                "name": "ipython",
                "version": 3
            },
            "file_extension": ".py",
            "mimetype": "text/x-python",
            "name": "python",
            "nbconvert_exporter": "python",
            "pygments_lexer": "ipython3",
            "version": "3.9.7"
        }
    },
    "nbformat": 4,
    "nbformat_minor": 1
}